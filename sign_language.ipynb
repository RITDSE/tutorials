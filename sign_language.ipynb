{
 "cells": [
  {
   "cell_type": "code",
   "execution_count": 2,
   "id": "7807d79b-d6f4-4484-9b7a-4add7da2d325",
   "metadata": {},
   "outputs": [
    {
     "data": {
      "text/plain": [
       "\"\\n    num_types = len(data['target_names'])\\n    targets = np_utils.to_categorical(np.array(data['target']), num_types)\\n\""
      ]
     },
     "execution_count": 2,
     "metadata": {},
     "output_type": "execute_result"
    }
   ],
   "source": [
    "import random\n",
    "import numpy as np\n",
    "from keras.utils import np_utils, to_categorical\n",
    "from keras.preprocessing import image\n",
    "from os import listdir\n",
    "from os.path import isdir, join\n",
    "\n",
    "\n",
    "def load_data(container_path='datasets', folders=['A', 'B', 'C'],\n",
    "              size=2000, test_split=0.2, seed=0):\n",
    "    \"\"\"\n",
    "    Loads sign language dataset.\n",
    "    \"\"\"\n",
    "    \n",
    "    filenames, labels = [], []\n",
    "\n",
    "    for label, folder in enumerate(folders):\n",
    "        folder_path = join(container_path, folder)\n",
    "        images = [join(folder_path, d)\n",
    "                     for d in sorted(listdir(folder_path))]\n",
    "        labels.extend(len(images) * [label])\n",
    "        filenames.extend(images)\n",
    "    \n",
    "    random.seed(seed)\n",
    "    data = list(zip(filenames, labels))\n",
    "    random.shuffle(data)\n",
    "    data = data[:size]\n",
    "    filenames, labels = zip(*data)\n",
    "\n",
    "    \n",
    "    # Get the images\n",
    "    x = paths_to_tensor(filenames).astype('float32')/255\n",
    "    # Store the one-hot targets\n",
    "    y = np.array(labels)\n",
    "\n",
    "    x_train = np.array(x[:int(len(x) * (1 - test_split))])\n",
    "    y_train = np.array(y[:int(len(x) * (1 - test_split))])\n",
    "    x_test = np.array(x[int(len(x) * (1 - test_split)):])\n",
    "    y_test = np.array(y[int(len(x) * (1 - test_split)):])\n",
    "\n",
    "    return (x_train, y_train), (x_test, y_test)\n",
    "\n",
    "\n",
    "def path_to_tensor(img_path, size):\n",
    "    # loads RGB image as PIL.Image.Image type\n",
    "    img = image.load_img(img_path, target_size=(size, size))\n",
    "    # convert PIL.Image.Image type to 3D tensor\n",
    "    x = image.img_to_array(img)\n",
    "    # convert 3D tensor to 4D tensor \n",
    "    return np.expand_dims(x, axis=0)\n",
    "\n",
    "def paths_to_tensor(img_paths, size=50):\n",
    "    list_of_tensors = [path_to_tensor(img_path, size) for img_path in img_paths]\n",
    "    return np.vstack(list_of_tensors)\n",
    "\n",
    "\n",
    "\"\"\"\n",
    "    num_types = len(data['target_names'])\n",
    "    targets = np_utils.to_categorical(np.array(data['target']), num_types)\n",
    "\"\"\"\n"
   ]
  },
  {
   "cell_type": "code",
   "execution_count": null,
   "id": "e633eb02-f418-40c4-93a3-a0f93fa7a4f3",
   "metadata": {},
   "outputs": [],
   "source": []
  }
 ],
 "metadata": {
  "kernelspec": {
   "display_name": "Python 3 (ipykernel)",
   "language": "python",
   "name": "python3"
  },
  "language_info": {
   "codemirror_mode": {
    "name": "ipython",
    "version": 3
   },
   "file_extension": ".py",
   "mimetype": "text/x-python",
   "name": "python",
   "nbconvert_exporter": "python",
   "pygments_lexer": "ipython3",
   "version": "3.9.13"
  }
 },
 "nbformat": 4,
 "nbformat_minor": 5
}
