{
 "cells": [
  {
   "cell_type": "markdown",
   "id": "bfe6aeb4",
   "metadata": {},
   "source": [
    "<div>\n",
    "<h1>1. What you might think...</h1>\n",
    "<img src=\"meme.jpg\" width=\"500\"/>\n",
    "</div>"
   ]
  },
  {
   "cell_type": "markdown",
   "id": "2ddb1439",
   "metadata": {},
   "source": [
    "<div>\n",
    "<h1>2. But the reality is...</h1>\n",
    "<img src=\"venn_diagram.png\" width=\"700\"/>\n",
    "</div>"
   ]
  },
  {
   "cell_type": "markdown",
   "id": "89e8a8f5",
   "metadata": {},
   "source": [
    "<div>\n",
    "<h1>3. What is Statistics?</h1>\n",
    "<p style=\"font-size: 18px\">The aggregate of scientific methods which deals with the collection, presentation, analysis and interpretation of data.</p>\n",
    "</div>"
   ]
  },
  {
   "cell_type": "markdown",
   "id": "6768c2e5",
   "metadata": {},
   "source": [
    "<div>\n",
    "<img src=\"stat_types.png\" width=\"300\"/>\n",
    "</div>"
   ]
  },
  {
   "cell_type": "markdown",
   "id": "0e38965e",
   "metadata": {},
   "source": [
    "<h1>4. Types of Data</h1> \n",
    "<div style=\"font-size: 18px\">\n",
    "<img src=\"data_types.png\" width=\"500\"/>\n",
    "<br> \n",
    "<ul>\n",
    "<li>Nominal: hair color - black, blonde, red</li>\n",
    "<li>Ordinal: economic status - poor, middle class, rich</li>\n",
    "<li>Discrete: number of students in a class</li>\n",
    "<li>Continuous: temperature</li>\n",
    "</ul>\n",
    "<br>\n",
    "In Data Science, we represent everything in numbers\n",
    "<ul>\n",
    "<li>Nominal features are always one hot encoded</li>\n",
    "<li>Ordinal features are one hot encoded (sometimes maybe label encoded)</li>\n",
    "<li>Discrete features may be treated as ordinal features if the number of unique values are low</li>\n",
    "<li>In general, both discrete and continuous features are treated as real numbers</li>\n",
    "</ul>\n",
    "</div>"
   ]
  },
  {
   "cell_type": "code",
   "execution_count": 1,
   "id": "98a950be",
   "metadata": {},
   "outputs": [
    {
     "data": {
      "text/html": [
       "<div>\n",
       "<style scoped>\n",
       "    .dataframe tbody tr th:only-of-type {\n",
       "        vertical-align: middle;\n",
       "    }\n",
       "\n",
       "    .dataframe tbody tr th {\n",
       "        vertical-align: top;\n",
       "    }\n",
       "\n",
       "    .dataframe thead th {\n",
       "        text-align: right;\n",
       "    }\n",
       "</style>\n",
       "<table border=\"1\" class=\"dataframe\">\n",
       "  <thead>\n",
       "    <tr style=\"text-align: right;\">\n",
       "      <th></th>\n",
       "      <th>hair_color</th>\n",
       "      <th>economic_status</th>\n",
       "    </tr>\n",
       "  </thead>\n",
       "  <tbody>\n",
       "    <tr>\n",
       "      <th>0</th>\n",
       "      <td>black</td>\n",
       "      <td>rich</td>\n",
       "    </tr>\n",
       "    <tr>\n",
       "      <th>1</th>\n",
       "      <td>black</td>\n",
       "      <td>poor</td>\n",
       "    </tr>\n",
       "    <tr>\n",
       "      <th>2</th>\n",
       "      <td>blone</td>\n",
       "      <td>middle class</td>\n",
       "    </tr>\n",
       "    <tr>\n",
       "      <th>3</th>\n",
       "      <td>red</td>\n",
       "      <td>rich</td>\n",
       "    </tr>\n",
       "  </tbody>\n",
       "</table>\n",
       "</div>"
      ],
      "text/plain": [
       "  hair_color economic_status\n",
       "0      black            rich\n",
       "1      black            poor\n",
       "2      blone    middle class\n",
       "3        red            rich"
      ]
     },
     "execution_count": 1,
     "metadata": {},
     "output_type": "execute_result"
    }
   ],
   "source": [
    "import pandas as pd\n",
    "data = [[\"black\", \"rich\"],\n",
    "        [\"black\", \"poor\"],\n",
    "        [\"blone\", \"middle class\"],\n",
    "        [\"red\", \"rich\"]]\n",
    "\n",
    "df = pd.DataFrame(data, columns=[\"hair_color\", \"economic_status\"])\n",
    "df"
   ]
  },
  {
   "cell_type": "code",
   "execution_count": 2,
   "id": "32b433db",
   "metadata": {},
   "outputs": [
    {
     "data": {
      "text/html": [
       "<div>\n",
       "<style scoped>\n",
       "    .dataframe tbody tr th:only-of-type {\n",
       "        vertical-align: middle;\n",
       "    }\n",
       "\n",
       "    .dataframe tbody tr th {\n",
       "        vertical-align: top;\n",
       "    }\n",
       "\n",
       "    .dataframe thead th {\n",
       "        text-align: right;\n",
       "    }\n",
       "</style>\n",
       "<table border=\"1\" class=\"dataframe\">\n",
       "  <thead>\n",
       "    <tr style=\"text-align: right;\">\n",
       "      <th></th>\n",
       "      <th>economic_status</th>\n",
       "      <th>hair_color_black</th>\n",
       "      <th>hair_color_blone</th>\n",
       "      <th>hair_color_red</th>\n",
       "    </tr>\n",
       "  </thead>\n",
       "  <tbody>\n",
       "    <tr>\n",
       "      <th>0</th>\n",
       "      <td>rich</td>\n",
       "      <td>1</td>\n",
       "      <td>0</td>\n",
       "      <td>0</td>\n",
       "    </tr>\n",
       "    <tr>\n",
       "      <th>1</th>\n",
       "      <td>poor</td>\n",
       "      <td>1</td>\n",
       "      <td>0</td>\n",
       "      <td>0</td>\n",
       "    </tr>\n",
       "    <tr>\n",
       "      <th>2</th>\n",
       "      <td>middle class</td>\n",
       "      <td>0</td>\n",
       "      <td>1</td>\n",
       "      <td>0</td>\n",
       "    </tr>\n",
       "    <tr>\n",
       "      <th>3</th>\n",
       "      <td>rich</td>\n",
       "      <td>0</td>\n",
       "      <td>0</td>\n",
       "      <td>1</td>\n",
       "    </tr>\n",
       "  </tbody>\n",
       "</table>\n",
       "</div>"
      ],
      "text/plain": [
       "  economic_status  hair_color_black  hair_color_blone  hair_color_red\n",
       "0            rich                 1                 0               0\n",
       "1            poor                 1                 0               0\n",
       "2    middle class                 0                 1               0\n",
       "3            rich                 0                 0               1"
      ]
     },
     "execution_count": 2,
     "metadata": {},
     "output_type": "execute_result"
    }
   ],
   "source": [
    "df = pd.get_dummies(df, columns=[\"hair_color\"])\n",
    "df"
   ]
  },
  {
   "cell_type": "code",
   "execution_count": 3,
   "id": "a39e6138",
   "metadata": {},
   "outputs": [
    {
     "data": {
      "text/html": [
       "<div>\n",
       "<style scoped>\n",
       "    .dataframe tbody tr th:only-of-type {\n",
       "        vertical-align: middle;\n",
       "    }\n",
       "\n",
       "    .dataframe tbody tr th {\n",
       "        vertical-align: top;\n",
       "    }\n",
       "\n",
       "    .dataframe thead th {\n",
       "        text-align: right;\n",
       "    }\n",
       "</style>\n",
       "<table border=\"1\" class=\"dataframe\">\n",
       "  <thead>\n",
       "    <tr style=\"text-align: right;\">\n",
       "      <th></th>\n",
       "      <th>economic_status</th>\n",
       "      <th>hair_color_black</th>\n",
       "      <th>hair_color_blone</th>\n",
       "      <th>hair_color_red</th>\n",
       "    </tr>\n",
       "  </thead>\n",
       "  <tbody>\n",
       "    <tr>\n",
       "      <th>0</th>\n",
       "      <td>2</td>\n",
       "      <td>1</td>\n",
       "      <td>0</td>\n",
       "      <td>0</td>\n",
       "    </tr>\n",
       "    <tr>\n",
       "      <th>1</th>\n",
       "      <td>0</td>\n",
       "      <td>1</td>\n",
       "      <td>0</td>\n",
       "      <td>0</td>\n",
       "    </tr>\n",
       "    <tr>\n",
       "      <th>2</th>\n",
       "      <td>1</td>\n",
       "      <td>0</td>\n",
       "      <td>1</td>\n",
       "      <td>0</td>\n",
       "    </tr>\n",
       "    <tr>\n",
       "      <th>3</th>\n",
       "      <td>2</td>\n",
       "      <td>0</td>\n",
       "      <td>0</td>\n",
       "      <td>1</td>\n",
       "    </tr>\n",
       "  </tbody>\n",
       "</table>\n",
       "</div>"
      ],
      "text/plain": [
       "   economic_status  hair_color_black  hair_color_blone  hair_color_red\n",
       "0                2                 1                 0               0\n",
       "1                0                 1                 0               0\n",
       "2                1                 0                 1               0\n",
       "3                2                 0                 0               1"
      ]
     },
     "execution_count": 3,
     "metadata": {},
     "output_type": "execute_result"
    }
   ],
   "source": [
    "eco_status_map = {\n",
    "    \"poor\" : 0,\n",
    "    \"middle class\" : 1,\n",
    "    \"rich\" : 2\n",
    "} \n",
    "df['economic_status'] = df['economic_status'].apply(lambda x : eco_status_map[x])\n",
    "df"
   ]
  },
  {
   "cell_type": "markdown",
   "id": "746f7d88",
   "metadata": {},
   "source": [
    "<h1>5. Population vs Sample</h1>  \n",
    "<img src=\"population_sample.png\" width=\"500\"/>"
   ]
  },
  {
   "cell_type": "markdown",
   "id": "f754376d",
   "metadata": {},
   "source": [
    "<div style=\"font-size: 18px\">\n",
    "We compute sample statistic to estimate the population parameter.\n",
    "    \n",
    "In Data Science, we use the sample to train our model and hope that it will work on the whole population.\n",
    "</div>"
   ]
  },
  {
   "cell_type": "markdown",
   "id": "df464ea2",
   "metadata": {},
   "source": [
    "<h1>6. Measures of Central Tendency</h1>"
   ]
  },
  {
   "cell_type": "markdown",
   "id": "445d8966",
   "metadata": {},
   "source": [
    "<div style=\"font-size: 18px\">\n",
    "Mean\n",
    "$$\n",
    "\\begin{align}\n",
    "\\text{(sample mean) } \\bar{x} &= \\frac{1}{n} \\sum x_i \\\\\n",
    "\\text{(population mean) } \\mu &= \\frac{1}{N} \\sum X_i \\\\ \n",
    "\\mu &= E(\\bar{x})\n",
    "\\end{align}$$\n",
    "</div>"
   ]
  },
  {
   "cell_type": "code",
   "execution_count": 2,
   "id": "39ac4623",
   "metadata": {},
   "outputs": [
    {
     "data": {
      "text/plain": [
       "9.633999999999997"
      ]
     },
     "execution_count": 2,
     "metadata": {},
     "output_type": "execute_result"
    }
   ],
   "source": [
    "import numpy as np\n",
    "sample_arr = np.array([10.85, 5.60, 10.74, 11.47, 12.59, 7.05, 12.30, 7.13,  7.57, 11.04])\n",
    "np.mean(sample_arr)"
   ]
  },
  {
   "cell_type": "markdown",
   "id": "548bbb44",
   "metadata": {},
   "source": [
    "<p style=\"font-size: 18px\">\n",
    "Median\n",
    "$$ \\begin{align} \n",
    "\\text{(sample median) } \\textit{Med}(x) &= x_{\\frac{n+1}{2}} \\text{ if n is odd} \\\\\n",
    "&= \\frac{x_{\\frac{n}{2}} + x_{\\frac{n}{2} +1}}{2} \\text{ if n is even}\\end{align}\n",
    "$$\n",
    "</p>"
   ]
  },
  {
   "cell_type": "code",
   "execution_count": 5,
   "id": "714e22bc",
   "metadata": {},
   "outputs": [
    {
     "data": {
      "text/plain": [
       "10.795"
      ]
     },
     "execution_count": 5,
     "metadata": {},
     "output_type": "execute_result"
    }
   ],
   "source": [
    "np.median(sample_arr)"
   ]
  },
  {
   "cell_type": "markdown",
   "id": "00c857e5",
   "metadata": {},
   "source": [
    "<p style=\"font-size: 18px\">\n",
    "Mode\n",
    "$$ \\text{(sample mode) } \\textit{Mod}(x) = \\text{most frequent value of x} \\\\\n",
    "$$\n",
    "</p>"
   ]
  },
  {
   "cell_type": "code",
   "execution_count": 19,
   "id": "4dd8ec77",
   "metadata": {},
   "outputs": [
    {
     "data": {
      "text/plain": [
       "[(10, 3), (7, 3)]"
      ]
     },
     "execution_count": 19,
     "metadata": {},
     "output_type": "execute_result"
    }
   ],
   "source": [
    "sample_arr = [10, 5, 10, 11, 12, 7, 12, 7,  7, 10]\n",
    "from collections import Counter\n",
    "Counter(sample_arr).most_common(2)"
   ]
  },
  {
   "cell_type": "markdown",
   "id": "8703d66b",
   "metadata": {},
   "source": [
    "<h3>But which one to use?</h3>"
   ]
  },
  {
   "cell_type": "code",
   "execution_count": 7,
   "id": "5b7471e6",
   "metadata": {},
   "outputs": [
    {
     "data": {
      "text/plain": [
       "<matplotlib.legend.Legend at 0x7ff43a884c40>"
      ]
     },
     "execution_count": 7,
     "metadata": {},
     "output_type": "execute_result"
    },
    {
     "data": {
      "image/png": "[encoded data removed]",
      "text/plain": [
       "<Figure size 432x288 with 1 Axes>"
      ]
     },
     "metadata": {
      "needs_background": "light"
     },
     "output_type": "display_data"
    }
   ],
   "source": [
    "from scipy.stats import skewnorm\n",
    "import seaborn as sns\n",
    "import matplotlib.pyplot as plt\n",
    "\n",
    "sample_arr_1 = skewnorm.rvs(loc=10, a=10, size=100, scale=5, random_state=1)\n",
    "mean, median = np.mean(sample_arr_1), np.median(sample_arr_1)\n",
    "sns.histplot(sample_arr_1, bins=15, color=\"red\", linewidth=0, alpha=.7)\n",
    "plt.axvline(x=mean, color=\"green\", label='mean')\n",
    "plt.axvline(x=median, color=\"blue\", label='median')\n",
    "plt.legend()"
   ]
  },
  {
   "cell_type": "code",
   "execution_count": 8,
   "id": "af0b7c48",
   "metadata": {},
   "outputs": [
    {
     "data": {
      "text/plain": [
       "<matplotlib.legend.Legend at 0x7ff43a8ee460>"
      ]
     },
     "execution_count": 8,
     "metadata": {},
     "output_type": "execute_result"
    },
    {
     "data": {
      "image/png": "[encoded data removed]",
      "text/plain": [
       "<Figure size 432x288 with 1 Axes>"
      ]
     },
     "metadata": {
      "needs_background": "light"
     },
     "output_type": "display_data"
    }
   ],
   "source": [
    "sample_arr_2 = skewnorm.rvs(loc=10, a=-10, size=100, scale=5, random_state=2)\n",
    "mean, median = np.mean(sample_arr_2), np.median(sample_arr_2)\n",
    "sns.histplot(sample_arr_2, bins=15, color=\"red\", linewidth=0, alpha=.7)\n",
    "plt.axvline(x=mean, color=\"green\", label='mean')\n",
    "plt.axvline(x=median, color=\"blue\", label='median')\n",
    "plt.legend()"
   ]
  },
  {
   "cell_type": "code",
   "execution_count": 9,
   "id": "e1333d3c",
   "metadata": {},
   "outputs": [
    {
     "data": {
      "text/plain": [
       "<matplotlib.legend.Legend at 0x7ff458981b50>"
      ]
     },
     "execution_count": 9,
     "metadata": {},
     "output_type": "execute_result"
    },
    {
     "data": {
      "image/png": "[encoded data removed]",
      "text/plain": [
       "<Figure size 432x288 with 1 Axes>"
      ]
     },
     "metadata": {
      "needs_background": "light"
     },
     "output_type": "display_data"
    }
   ],
   "source": [
    "sample_arr_3 = skewnorm.rvs(loc=10, a=0, size=100, scale=5, random_state=3)\n",
    "mean, median = np.mean(sample_arr_3), np.median(sample_arr_3)\n",
    "sns.histplot(sample_arr_3, bins=15, color=\"red\", linewidth=0, alpha=.7)\n",
    "plt.axvline(x=mean, color=\"green\", label='mean')\n",
    "plt.axvline(x=median, color=\"blue\", label='median')\n",
    "plt.legend()"
   ]
  },
  {
   "cell_type": "markdown",
   "id": "25e2153e",
   "metadata": {},
   "source": [
    "<div style=\"font-size: 18px\">\n",
    "<ul>\n",
    "  <li>If the distribution is symmetric then either mean or median</li>\n",
    "  <li>If the distribution is asymmetric then median</li>\n",
    "  <li>If the data is categorical then mode</li>\n",
    "</ul>\n",
    "In Data Science, we select the imputation method accordingly.\n",
    "</div>"
   ]
  },
  {
   "cell_type": "markdown",
   "id": "73c0776d",
   "metadata": {},
   "source": [
    "<h1>7. Measures of Dispersion</h1>"
   ]
  },
  {
   "cell_type": "markdown",
   "id": "26fa600d",
   "metadata": {},
   "source": [
    "<div style=\"font-size: 18px\">\n",
    "Variance and Standard Deviation\n",
    "$$\n",
    "\\begin{align}\n",
    "\\text{(sample variance) } s^2 &= \\frac{1}{n-1} \\sum (x_i - \\bar{x})^2 \\\\\n",
    "\\text{(population variance) } \\sigma ^2 &= \\frac{1}{N} \\sum (X_i - \\mu)^2 \\\\ \n",
    "\\sigma ^2 &= E(s^2)\\\\ \\\\\n",
    "\\text{(sample standard deviation) } s &= \\sqrt{s^2} \\\\\n",
    "\\text{(population standard deviation) } \\sigma &= \\sqrt{\\sigma ^2} \\\\ \n",
    "\\end{align}$$\n",
    "</div>"
   ]
  },
  {
   "cell_type": "code",
   "execution_count": 10,
   "id": "35c94928",
   "metadata": {},
   "outputs": [
    {
     "data": {
      "text/plain": [
       "2.5248859160146004"
      ]
     },
     "execution_count": 10,
     "metadata": {},
     "output_type": "execute_result"
    }
   ],
   "source": [
    "sample_arr = np.array([10.85, 5.60, 10.74, 11.47, 12.59, 7.05, 12.30, 7.13,  7.57, 11.04])\n",
    "np.std(sample_arr, ddof=1)"
   ]
  },
  {
   "cell_type": "markdown",
   "id": "e46ecc09",
   "metadata": {},
   "source": [
    "<div style=\"font-size: 18px\">Interquartile Range and Quartile Deviation\n",
    "$$\n",
    "\\begin{align}\n",
    "\\text{(sample interquartile range) }\\textit{IQR } &= Q_3 - Q_1 \\\\\n",
    "Q_1 &= \\text{median of the smallest } \\frac{n}{2} \\text{ values of } x \\\\\n",
    "Q_3 &= \\text{median of the largest } \\frac{n}{2} \\text{ values of } x \\\\ \\\\\n",
    "\\text{(sample quartile deviation) }\\textit{QD } &= \\frac{\\textit{IQR}}{2} \\\\ \n",
    "\\end{align}$$\n",
    "</div>"
   ]
  },
  {
   "cell_type": "code",
   "execution_count": 15,
   "id": "e606b6ff",
   "metadata": {},
   "outputs": [
    {
     "data": {
      "text/plain": [
       "4.1225000000000005"
      ]
     },
     "execution_count": 15,
     "metadata": {},
     "output_type": "execute_result"
    }
   ],
   "source": [
    "q3, q1 = np.percentile(sample_arr, [75, 25])\n",
    "q3 - q1"
   ]
  },
  {
   "cell_type": "markdown",
   "id": "d4052aea",
   "metadata": {},
   "source": [
    "<h1>8. Removing Outliers</h1>"
   ]
  },
  {
   "cell_type": "markdown",
   "id": "ba325d5c",
   "metadata": {},
   "source": [
    "<div style=\"font-size: 18px\">\n",
    "Z-score based method\n",
    "$$z_i = \\frac{x_i - \\bar{x}}{s}$$\n",
    "<img src=\"z.jpg\" width=\"500\"/>  \n",
    "<br>\n",
    "Remove values that are more than 3 standard deviations away from the mean.\n",
    "</div>"
   ]
  },
  {
   "cell_type": "code",
   "execution_count": 43,
   "id": "ad848267",
   "metadata": {
    "scrolled": true
   },
   "outputs": [
    {
     "data": {
      "text/html": [
       "<div>\n",
       "<style scoped>\n",
       "    .dataframe tbody tr th:only-of-type {\n",
       "        vertical-align: middle;\n",
       "    }\n",
       "\n",
       "    .dataframe tbody tr th {\n",
       "        vertical-align: top;\n",
       "    }\n",
       "\n",
       "    .dataframe thead th {\n",
       "        text-align: right;\n",
       "    }\n",
       "</style>\n",
       "<table border=\"1\" class=\"dataframe\">\n",
       "  <thead>\n",
       "    <tr style=\"text-align: right;\">\n",
       "      <th></th>\n",
       "      <th>temperature</th>\n",
       "    </tr>\n",
       "  </thead>\n",
       "  <tbody>\n",
       "    <tr>\n",
       "      <th>0</th>\n",
       "      <td>67</td>\n",
       "    </tr>\n",
       "    <tr>\n",
       "      <th>1</th>\n",
       "      <td>68</td>\n",
       "    </tr>\n",
       "    <tr>\n",
       "      <th>2</th>\n",
       "      <td>70</td>\n",
       "    </tr>\n",
       "    <tr>\n",
       "      <th>3</th>\n",
       "      <td>65</td>\n",
       "    </tr>\n",
       "    <tr>\n",
       "      <th>4</th>\n",
       "      <td>120</td>\n",
       "    </tr>\n",
       "    <tr>\n",
       "      <th>5</th>\n",
       "      <td>71</td>\n",
       "    </tr>\n",
       "    <tr>\n",
       "      <th>6</th>\n",
       "      <td>67</td>\n",
       "    </tr>\n",
       "    <tr>\n",
       "      <th>7</th>\n",
       "      <td>72</td>\n",
       "    </tr>\n",
       "    <tr>\n",
       "      <th>8</th>\n",
       "      <td>74</td>\n",
       "    </tr>\n",
       "    <tr>\n",
       "      <th>9</th>\n",
       "      <td>64</td>\n",
       "    </tr>\n",
       "    <tr>\n",
       "      <th>10</th>\n",
       "      <td>66</td>\n",
       "    </tr>\n",
       "  </tbody>\n",
       "</table>\n",
       "</div>"
      ],
      "text/plain": [
       "    temperature\n",
       "0            67\n",
       "1            68\n",
       "2            70\n",
       "3            65\n",
       "4           120\n",
       "5            71\n",
       "6            67\n",
       "7            72\n",
       "8            74\n",
       "9            64\n",
       "10           66"
      ]
     },
     "execution_count": 43,
     "metadata": {},
     "output_type": "execute_result"
    }
   ],
   "source": [
    "data = [67, 68, 70, 65, 120, 71, 67, 72, 74, 64, 66]\n",
    "df = pd.DataFrame(data, columns=[\"temperature\"])\n",
    "df"
   ]
  },
  {
   "cell_type": "code",
   "execution_count": 44,
   "id": "513b635f",
   "metadata": {},
   "outputs": [
    {
     "name": "stdout",
     "output_type": "stream",
     "text": [
      "0    -0.402826\n",
      "1    -0.336690\n",
      "2    -0.204419\n",
      "3    -0.535097\n",
      "4     3.102360\n",
      "5    -0.138283\n",
      "6    -0.402826\n",
      "7    -0.072148\n",
      "8     0.060123\n",
      "9    -0.601233\n",
      "10   -0.468961\n",
      "Name: temperature, dtype: float64\n"
     ]
    },
    {
     "data": {
      "text/html": [
       "<div>\n",
       "<style scoped>\n",
       "    .dataframe tbody tr th:only-of-type {\n",
       "        vertical-align: middle;\n",
       "    }\n",
       "\n",
       "    .dataframe tbody tr th {\n",
       "        vertical-align: top;\n",
       "    }\n",
       "\n",
       "    .dataframe thead th {\n",
       "        text-align: right;\n",
       "    }\n",
       "</style>\n",
       "<table border=\"1\" class=\"dataframe\">\n",
       "  <thead>\n",
       "    <tr style=\"text-align: right;\">\n",
       "      <th></th>\n",
       "      <th>temperature</th>\n",
       "    </tr>\n",
       "  </thead>\n",
       "  <tbody>\n",
       "    <tr>\n",
       "      <th>0</th>\n",
       "      <td>67</td>\n",
       "    </tr>\n",
       "    <tr>\n",
       "      <th>1</th>\n",
       "      <td>68</td>\n",
       "    </tr>\n",
       "    <tr>\n",
       "      <th>2</th>\n",
       "      <td>70</td>\n",
       "    </tr>\n",
       "    <tr>\n",
       "      <th>3</th>\n",
       "      <td>65</td>\n",
       "    </tr>\n",
       "    <tr>\n",
       "      <th>5</th>\n",
       "      <td>71</td>\n",
       "    </tr>\n",
       "    <tr>\n",
       "      <th>6</th>\n",
       "      <td>67</td>\n",
       "    </tr>\n",
       "    <tr>\n",
       "      <th>7</th>\n",
       "      <td>72</td>\n",
       "    </tr>\n",
       "    <tr>\n",
       "      <th>8</th>\n",
       "      <td>74</td>\n",
       "    </tr>\n",
       "    <tr>\n",
       "      <th>9</th>\n",
       "      <td>64</td>\n",
       "    </tr>\n",
       "    <tr>\n",
       "      <th>10</th>\n",
       "      <td>66</td>\n",
       "    </tr>\n",
       "  </tbody>\n",
       "</table>\n",
       "</div>"
      ],
      "text/plain": [
       "    temperature\n",
       "0            67\n",
       "1            68\n",
       "2            70\n",
       "3            65\n",
       "5            71\n",
       "6            67\n",
       "7            72\n",
       "8            74\n",
       "9            64\n",
       "10           66"
      ]
     },
     "execution_count": 44,
     "metadata": {},
     "output_type": "execute_result"
    }
   ],
   "source": [
    "from scipy import stats\n",
    "print(stats.zscore(df[\"temperature\"]))\n",
    "mod_df = df[(np.abs(stats.zscore(df[\"temperature\"])) < 3)]\n",
    "mod_df"
   ]
  },
  {
   "cell_type": "markdown",
   "id": "72291e19",
   "metadata": {},
   "source": [
    "<div style=\"font-size: 18px\">\n",
    "IQR based method\n",
    "$$\n",
    "\\begin{align}\n",
    "\\textit{low} &= Q_1 - 1.5*\\textit{IQR} \\\\\n",
    "\\textit{high} &= Q_3 + 1.5*\\textit{IQR}\n",
    "\\end{align}\n",
    "$$\n",
    "<br>\n",
    "Remove values that are outside $[low, high]$.\n",
    "<img src=\"boxplot.jpg\" width=\"300\"/>\n",
    "</div>"
   ]
  },
  {
   "cell_type": "code",
   "execution_count": 45,
   "id": "831b60f7",
   "metadata": {},
   "outputs": [
    {
     "data": {
      "text/html": [
       "<div>\n",
       "<style scoped>\n",
       "    .dataframe tbody tr th:only-of-type {\n",
       "        vertical-align: middle;\n",
       "    }\n",
       "\n",
       "    .dataframe tbody tr th {\n",
       "        vertical-align: top;\n",
       "    }\n",
       "\n",
       "    .dataframe thead th {\n",
       "        text-align: right;\n",
       "    }\n",
       "</style>\n",
       "<table border=\"1\" class=\"dataframe\">\n",
       "  <thead>\n",
       "    <tr style=\"text-align: right;\">\n",
       "      <th></th>\n",
       "      <th>temperature</th>\n",
       "    </tr>\n",
       "  </thead>\n",
       "  <tbody>\n",
       "    <tr>\n",
       "      <th>0</th>\n",
       "      <td>67</td>\n",
       "    </tr>\n",
       "    <tr>\n",
       "      <th>1</th>\n",
       "      <td>68</td>\n",
       "    </tr>\n",
       "    <tr>\n",
       "      <th>2</th>\n",
       "      <td>70</td>\n",
       "    </tr>\n",
       "    <tr>\n",
       "      <th>3</th>\n",
       "      <td>65</td>\n",
       "    </tr>\n",
       "    <tr>\n",
       "      <th>5</th>\n",
       "      <td>71</td>\n",
       "    </tr>\n",
       "    <tr>\n",
       "      <th>6</th>\n",
       "      <td>67</td>\n",
       "    </tr>\n",
       "    <tr>\n",
       "      <th>7</th>\n",
       "      <td>72</td>\n",
       "    </tr>\n",
       "    <tr>\n",
       "      <th>8</th>\n",
       "      <td>74</td>\n",
       "    </tr>\n",
       "    <tr>\n",
       "      <th>9</th>\n",
       "      <td>64</td>\n",
       "    </tr>\n",
       "    <tr>\n",
       "      <th>10</th>\n",
       "      <td>66</td>\n",
       "    </tr>\n",
       "  </tbody>\n",
       "</table>\n",
       "</div>"
      ],
      "text/plain": [
       "    temperature\n",
       "0            67\n",
       "1            68\n",
       "2            70\n",
       "3            65\n",
       "5            71\n",
       "6            67\n",
       "7            72\n",
       "8            74\n",
       "9            64\n",
       "10           66"
      ]
     },
     "execution_count": 45,
     "metadata": {},
     "output_type": "execute_result"
    }
   ],
   "source": [
    "q3, q1 = np.percentile(df[\"temperature\"], [75, 25])\n",
    "iqr = q3 - q1\n",
    "low, high = q1 - 1.5*iqr, q3 + 1.5*iqr\n",
    "mod_df = df[(df[\"temperature\"]>=low) & (df[\"temperature\"]<=high)]\n",
    "mod_df"
   ]
  },
  {
   "cell_type": "markdown",
   "id": "d9f8c527",
   "metadata": {},
   "source": [
    "<h3>But which one to use?</h3>\n",
    "<!-- <div>\n",
    "<!-- IQR based method is more  -->\n",
    "<!-- <div> -->"
   ]
  },
  {
   "cell_type": "markdown",
   "id": "5b0e34b5",
   "metadata": {},
   "source": [
    "<h1>9. Covariance and Correlation</h1>"
   ]
  },
  {
   "cell_type": "markdown",
   "id": "70cbc606",
   "metadata": {},
   "source": [
    "<div style=\"font-size:18px\">\n",
    "    \n",
    "Variance measures the spread along a single dimension.\n",
    "    \n",
    "    \n",
    "<img src=\"var.png\" width=\"600\"/>\n",
    "    \n",
    "But what if we want to measure the spread along two dimensions?\n",
    "    \n",
    "<img src=\"covar1.png\" width=\"600\"/>\n",
    "\n",
    "<img src=\"covar2.png\" width=\"600\"/>\n",
    "    \n",
    "    \n",
    "$$\n",
    "\\begin{align}\n",
    "cov(x,y) &= \\frac{\\sum (x_i - \\bar{x}) (y_i - \\bar{y})}{n-1} \\\\ \\\\\n",
    "corr(x,y) &= \\frac{cov(x,y)}{s_x s_y}\n",
    "\\end{align}\n",
    "$$\n",
    "    \n",
    "In Data Science, we use correlation to find if there exists a linear relationship between a feature and the target (or two features)\n",
    "</div>\n",
    "\n",
    "Read more: https://youtu.be/TPcAnExkWwQ"
   ]
  },
  {
   "cell_type": "code",
   "execution_count": 69,
   "id": "342384db",
   "metadata": {},
   "outputs": [
    {
     "data": {
      "text/html": [
       "<div>\n",
       "<style scoped>\n",
       "    .dataframe tbody tr th:only-of-type {\n",
       "        vertical-align: middle;\n",
       "    }\n",
       "\n",
       "    .dataframe tbody tr th {\n",
       "        vertical-align: top;\n",
       "    }\n",
       "\n",
       "    .dataframe thead th {\n",
       "        text-align: right;\n",
       "    }\n",
       "</style>\n",
       "<table border=\"1\" class=\"dataframe\">\n",
       "  <thead>\n",
       "    <tr style=\"text-align: right;\">\n",
       "      <th></th>\n",
       "      <th>x1</th>\n",
       "      <th>x2</th>\n",
       "      <th>y</th>\n",
       "    </tr>\n",
       "  </thead>\n",
       "  <tbody>\n",
       "    <tr>\n",
       "      <th>0</th>\n",
       "      <td>800</td>\n",
       "      <td>299</td>\n",
       "      <td>2.8</td>\n",
       "    </tr>\n",
       "    <tr>\n",
       "      <th>1</th>\n",
       "      <td>1480</td>\n",
       "      <td>317</td>\n",
       "      <td>3.7</td>\n",
       "    </tr>\n",
       "    <tr>\n",
       "      <th>2</th>\n",
       "      <td>1400</td>\n",
       "      <td>315</td>\n",
       "      <td>3.4</td>\n",
       "    </tr>\n",
       "    <tr>\n",
       "      <th>3</th>\n",
       "      <td>1000</td>\n",
       "      <td>302</td>\n",
       "      <td>3.3</td>\n",
       "    </tr>\n",
       "    <tr>\n",
       "      <th>4</th>\n",
       "      <td>1450</td>\n",
       "      <td>310</td>\n",
       "      <td>3.7</td>\n",
       "    </tr>\n",
       "  </tbody>\n",
       "</table>\n",
       "</div>"
      ],
      "text/plain": [
       "     x1   x2    y\n",
       "0   800  299  2.8\n",
       "1  1480  317  3.7\n",
       "2  1400  315  3.4\n",
       "3  1000  302  3.3\n",
       "4  1450  310  3.7"
      ]
     },
     "execution_count": 69,
     "metadata": {},
     "output_type": "execute_result"
    }
   ],
   "source": [
    "data = [[800,  299,  2.8],\n",
    "        [1480, 317, 3.7],\n",
    "        [1400, 315, 3.4],\n",
    "        [1000, 302, 3.3],\n",
    "        [1450, 310, 3.7]]\n",
    "df = pd.DataFrame(data, columns=[\"x1\", \"x2\", \"y\"])\n",
    "df"
   ]
  },
  {
   "cell_type": "code",
   "execution_count": 75,
   "id": "11800e61",
   "metadata": {
    "scrolled": true
   },
   "outputs": [
    {
     "data": {
      "text/plain": [
       "<AxesSubplot:>"
      ]
     },
     "execution_count": 75,
     "metadata": {},
     "output_type": "execute_result"
    },
    {
     "data": {
      "image/png": "[encoded data removed]",
      "text/plain": [
       "<Figure size 432x288 with 2 Axes>"
      ]
     },
     "metadata": {
      "needs_background": "light"
     },
     "output_type": "display_data"
    }
   ],
   "source": [
    "sns.heatmap(df.corr(), annot=True, fmt=\".2f\", annot_kws={\"size\": 20}, linewidth=3)"
   ]
  },
  {
   "cell_type": "markdown",
   "id": "f68fe9bc",
   "metadata": {},
   "source": [
    "<h3>Be careful! Correlation is NOT causation!</h3>\n",
    "\n",
    "<img src=\"corr.png\" width=\"800\"/>\n",
    "Source: <a>https://www.tylervigen.com/spurious-correlations</a>\n",
    "\n",
    "\n",
    "<br>\n",
    "<br>\n",
    "<div style=\"font-size:18px\"> \n",
    "<ul>\n",
    "  <li>Two completely random things can sometimes correlate. You'll find patterns in randomness if you look hard enough</li>\n",
    "  <li>Two variables can correlate because of a third (unknown) factor</li>\n",
    "  <li>A low correlation score only indicates there exists little to no linear correlation. There still might exist a non-linear relationship between the variables</li>\n",
    "</ul>\n",
    "</div>"
   ]
  },
  {
   "cell_type": "markdown",
   "id": "0498bdaf",
   "metadata": {},
   "source": [
    "<h1>10. Normal distribution: Myths and Facts</h1>"
   ]
  },
  {
   "cell_type": "markdown",
   "id": "870eb641",
   "metadata": {},
   "source": [
    "<div style=\"font-size: 18px\">\n",
    "\n",
    "<img src=\"z.jpg\" width=\"500\"/>  \n",
    "<br>\n",
    "$$\\mathcal{N}(\\mu, \\sigma) = \\frac{1}{\\sigma \\sqrt{2\\pi}} e^{-\\frac{1}{2}(\\frac{x-\\mu}{\\sigma})^2}$$\n",
    "    \n",
    "<ul>\n",
    "<li>Symmetric about the mean</li>\n",
    "<li>Moderate values are most likely</li>\n",
    "<li>Very high and very low values are (equally) rare</li>\n",
    "</ul>\n",
    "</div>  \n",
    " \n",
    "<h3>CLT</h3>\n",
    "<div style=\"font-size: 18px\">\n",
    "According to CLT, regardless of the population distribution, the sample mean approaches a normal distribution as sample size increases.\n",
    "</div>\n",
    " \n",
    "<br>\n",
    "<img src=\"clt1.png\" width=\"800\"/> \n",
    "<img src=\"clt2.png\" width=\"800\"/> \n",
    "<img src=\"clt3.png\" width=\"800\"/> \n",
    "<br>\n",
    "    \n",
    "Read more: https://youtu.be/8Z9XRrJU9ZM"
   ]
  },
  {
   "cell_type": "markdown",
   "id": "174d02b0",
   "metadata": {},
   "source": [
    "<h1>11. Is your model statistically better than others?</h1>"
   ]
  },
  {
   "cell_type": "markdown",
   "id": "69887289",
   "metadata": {},
   "source": [
    "<div style=\"font-size: 18px\">\n",
    "\n",
    "<ul>\n",
    "<li>It's (surprisingly) hard to show if a particular model is statistically better than other models</li>\n",
    "<li>Standard statistical tests (like paired t-test) with the k-fold cross-validation metrics are misleading because the metrics are not independent</li>\n",
    "</ul>  \n",
    "</div>\n",
    "  \n",
    "<h3>So what to do?</h3>\n",
    "\n",
    "<div style=\"font-size: 18px\">\n",
    "\n",
    "<ul>\n",
    "<li>Accept the limitations of statistical tests and use them</li>\n",
    "<li>Just use mean and std of k-fold cross-validation metrics and check if confidence intervals overlap</li>\n",
    "<li>Use McNemar's test for comparing classification algorithms</li>\n",
    "</ul>  \n",
    "</div>  \n",
    "\n",
    "Read more: <a>https://machinelearningmastery.com/statistical-significance-tests-for-comparing-machine-learning-algorithms/</a>\n"
   ]
  },
  {
   "cell_type": "code",
   "execution_count": 18,
   "id": "b9c80687",
   "metadata": {},
   "outputs": [
    {
     "name": "stdout",
     "output_type": "stream",
     "text": [
      "Sujan's model:  86.9 ± 1.14\n",
      "Ritu's model:  87.2 ± 0.84\n",
      "Tolu's model:  89.35 ± 1.18\n",
      "Le's model:  86.5 ± 0.71\n",
      "Karan's model:  87.3 ± 1.52\n"
     ]
    }
   ],
   "source": [
    "sujan_model_acc = np.array([87, 86, 87, 88, 86, 89, 87, 86, 88, 85])\n",
    "ritu_model_acc = np.array([87.5, 86.5, 88, 88.5, 86.5, 87, 87.5, 88, 87, 85.5])\n",
    "tolu_model_acc = np.array([90, 88, 89, 90, 88, 91, 89, 91, 90, 87.5])\n",
    "le_model_acc = np.array([86.5, 87.5, 87, 87.5, 85.5, 86, 86.5, 87, 86, 85.5])\n",
    "karan_model_acc = np.array([89, 86, 88, 85, 87, 90, 87.5, 86.5, 88.5, 85.5])\n",
    "\n",
    "print(\"Sujan's model: \", np.mean(sujan_model_acc), \"±\", round(np.std(sujan_model_acc), 2))\n",
    "print(\"Ritu's model: \", np.mean(ritu_model_acc), \"±\", round(np.std(ritu_model_acc), 2))\n",
    "print(\"Tolu's model: \", np.mean(tolu_model_acc), \"±\", round(np.std(tolu_model_acc), 2))\n",
    "print(\"Le's model: \", np.mean(le_model_acc), \"±\", round(np.std(le_model_acc), 2))\n",
    "print(\"Karan's model: \", np.mean(karan_model_acc), \"±\", round(np.std(karan_model_acc), 2))"
   ]
  }
 ],
 "metadata": {
  "kernelspec": {
   "display_name": "Python 3 (ipykernel)",
   "language": "python",
   "name": "python3"
  },
  "language_info": {
   "codemirror_mode": {
    "name": "ipython",
    "version": 3
   },
   "file_extension": ".py",
   "mimetype": "text/x-python",
   "name": "python",
   "nbconvert_exporter": "python",
   "pygments_lexer": "ipython3",
   "version": "3.9.12"
  }
 },
 "nbformat": 4,
 "nbformat_minor": 5
}
