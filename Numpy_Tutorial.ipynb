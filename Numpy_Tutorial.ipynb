{
 "cells": [
  {
   "cell_type": "markdown",
   "metadata": {},
   "source": [
    "# What is Numpy?\n",
    "\n",
    "https://numpy.org/\n",
    "\n",
    "Numpy is a python library that implements numpy data structures. These data structures make working with lists and matrices much easier and faster. "
   ]
  },
  {
   "cell_type": "markdown",
   "metadata": {},
   "source": [
    "# Import Numpy Package\n",
    "\n",
    "After our import statement, we can use \"as\" to give our package an alias. This alias will allow us to call numpy functions without spell out \"numpy\" every time; we can simply use \"np\"."
   ]
  },
  {
   "cell_type": "code",
   "execution_count": 4,
   "metadata": {},
   "outputs": [],
   "source": [
    "import numpy as np"
   ]
  },
  {
   "cell_type": "markdown",
   "metadata": {},
   "source": [
    "# Numpy Arrays\n",
    "\n",
    "The most useful feature of numpy is the numpy array. Numpy arrays are python objects that encapsulate lists to simply calculations done with them and much more.\n",
    "\n",
    "To show off the usefulness of numpy arrays we will first try to do some calculations on the basic python list data structures"
   ]
  },
  {
   "cell_type": "code",
   "execution_count": 1,
   "metadata": {},
   "outputs": [
    {
     "ename": "TypeError",
     "evalue": "can't multiply sequence by non-int of type 'list'",
     "output_type": "error",
     "traceback": [
      "\u001b[0;31m---------------------------------------------------------------------------\u001b[0m",
      "\u001b[0;31mTypeError\u001b[0m                                 Traceback (most recent call last)",
      "\u001b[0;32m/var/folders/fr/03zv9zcj7j146mrr4jsb58kw0000gn/T/ipykernel_4727/2282578637.py\u001b[0m in \u001b[0;36m<module>\u001b[0;34m\u001b[0m\n\u001b[1;32m      3\u001b[0m \u001b[0;34m\u001b[0m\u001b[0m\n\u001b[1;32m      4\u001b[0m \u001b[0;31m#This WILL throw an error\u001b[0m\u001b[0;34m\u001b[0m\u001b[0;34m\u001b[0m\u001b[0m\n\u001b[0;32m----> 5\u001b[0;31m \u001b[0mlist1\u001b[0m \u001b[0;34m*\u001b[0m \u001b[0mlist2\u001b[0m\u001b[0;34m\u001b[0m\u001b[0;34m\u001b[0m\u001b[0m\n\u001b[0m",
      "\u001b[0;31mTypeError\u001b[0m: can't multiply sequence by non-int of type 'list'"
     ]
    }
   ],
   "source": [
    "list1 = [1,2,3,4,5]\n",
    "list2 = [6,7,8,9,10]\n",
    "\n",
    "#This WILL throw an error\n",
    "list1 * list2"
   ]
  },
  {
   "cell_type": "code",
   "execution_count": 2,
   "metadata": {},
   "outputs": [
    {
     "data": {
      "text/plain": [
       "[6, 14, 24, 36, 50]"
      ]
     },
     "execution_count": 2,
     "metadata": {},
     "output_type": "execute_result"
    }
   ],
   "source": [
    "for i in range(0,len(list1)):\n",
    "    list1[i] = list1[i]*list2[i]\n",
    "    \n",
    "list1"
   ]
  },
  {
   "cell_type": "markdown",
   "metadata": {},
   "source": [
    "As we can see, operations can not be done on pythons lists. Let's see what happens when we use numpy arrays."
   ]
  },
  {
   "cell_type": "code",
   "execution_count": 5,
   "metadata": {},
   "outputs": [
    {
     "data": {
      "text/plain": [
       "array([ 6, 14, 24, 36, 50])"
      ]
     },
     "execution_count": 5,
     "metadata": {},
     "output_type": "execute_result"
    }
   ],
   "source": [
    "array1 = np.array([1,2,3,4,5])\n",
    "array2 = np.array([6,7,8,9,10])\n",
    "\n",
    "array1*array2"
   ]
  },
  {
   "cell_type": "markdown",
   "metadata": {},
   "source": [
    "# Numpy Functions\n",
    "\n",
    "Not only can we do operations with numpy arrays, we can also call mathematical functions on them.\n",
    "\n",
    "Full list numpy functions: https://numpy.org/doc/stable/reference/routines.math.html"
   ]
  },
  {
   "cell_type": "code",
   "execution_count": 11,
   "metadata": {},
   "outputs": [
    {
     "name": "stdout",
     "output_type": "stream",
     "text": [
      "15\n",
      "3.0\n",
      "1.4142135623730951\n",
      "5\n"
     ]
    }
   ],
   "source": [
    "array = np.array([1,2,3,4,5])\n",
    "\n",
    "#Examples of functions done directly on arrays\n",
    "print(array.sum())\n",
    "print(array.mean())\n",
    "print(array.std())\n",
    "print(array.max())"
   ]
  },
  {
   "cell_type": "code",
   "execution_count": 12,
   "metadata": {},
   "outputs": [
    {
     "name": "stdout",
     "output_type": "stream",
     "text": [
      "[ 0.84147098  0.90929743  0.14112001 -0.7568025  -0.95892427]\n",
      "[  2.71828183   7.3890561   20.08553692  54.59815003 148.4131591 ]\n",
      "[0.         0.69314718 1.09861229 1.38629436 1.60943791]\n"
     ]
    }
   ],
   "source": [
    "#Using numpy functions on array\n",
    "print(np.sin(array))\n",
    "print(np.exp(array))\n",
    "print(np.log(array))"
   ]
  },
  {
   "cell_type": "markdown",
   "metadata": {},
   "source": [
    "# Multi-Dimensional Arrays\n",
    "\n",
    "Where numpy shines is with multi-dimensional arrays or matrices. With basic lists, working with multi-dimensional arrays would need bulky nested loops, but numpy handles all of it internally."
   ]
  },
  {
   "cell_type": "code",
   "execution_count": 13,
   "metadata": {},
   "outputs": [
    {
     "data": {
      "text/plain": [
       "[[2, 4, 6], [8, 10, 12], [14, 16, 18]]"
      ]
     },
     "execution_count": 13,
     "metadata": {},
     "output_type": "execute_result"
    }
   ],
   "source": [
    "#Add 2 matricies with lists\n",
    "matrix1 = [[1,2,3],[4,5,6],[7,8,9]]\n",
    "matrix2 = [[1,2,3],[4,5,6],[7,8,9]]\n",
    "\n",
    "for i in range(0,len(matrix1)):\n",
    "    for j in range(0,len(matrix2)):\n",
    "        matrix1[i][j] = matrix1[i][j] + matrix2[i][j]\n",
    "        \n",
    "matrix1"
   ]
  },
  {
   "cell_type": "code",
   "execution_count": 14,
   "metadata": {},
   "outputs": [
    {
     "data": {
      "text/plain": [
       "array([[ 2,  4,  6],\n",
       "       [ 8, 10, 12],\n",
       "       [14, 16, 18]])"
      ]
     },
     "execution_count": 14,
     "metadata": {},
     "output_type": "execute_result"
    }
   ],
   "source": [
    "#Add 2 matricies with numpy arrays\n",
    "npMatrix1 = np.array([[1,2,3],[4,5,6],[7,8,9]])\n",
    "npMatrix2 = np.array([[1,2,3],[4,5,6],[7,8,9]])\n",
    "\n",
    "npMatrix1 + npMatrix2\n"
   ]
  },
  {
   "cell_type": "code",
   "execution_count": 15,
   "metadata": {},
   "outputs": [
    {
     "name": "stdout",
     "output_type": "stream",
     "text": [
      "45\n",
      "5.0\n",
      "2.581988897471611\n",
      "9\n"
     ]
    }
   ],
   "source": [
    "#functions\n",
    "print(npMatrix1.sum())\n",
    "print(npMatrix1.mean())\n",
    "print(npMatrix1.std())\n",
    "print(npMatrix1.max())"
   ]
  },
  {
   "cell_type": "markdown",
   "metadata": {},
   "source": [
    "# Array Indexing and Slicing\n",
    "\n",
    "arrays (and lists) are indexed row X column, or across then down\n",
    "\n",
    "Remember all indices in python start at 0!"
   ]
  },
  {
   "cell_type": "code",
   "execution_count": 16,
   "metadata": {},
   "outputs": [
    {
     "name": "stdout",
     "output_type": "stream",
     "text": [
      "1\n",
      "5\n",
      "9\n",
      "9\n"
     ]
    }
   ],
   "source": [
    "matrix = np.array([[1,2,3],[4,5,6],[7,8,9]])\n",
    "\n",
    "#first \n",
    "print(matrix[0][0])\n",
    "#middle\n",
    "print(matrix[1][1])\n",
    "#last\n",
    "print(matrix[2][2])\n",
    "#another way to get last\n",
    "print(matrix[-1][-1])\n"
   ]
  },
  {
   "cell_type": "markdown",
   "metadata": {},
   "source": [
    "We can also get entire rows and columns out of numpy arrays"
   ]
  },
  {
   "cell_type": "code",
   "execution_count": 17,
   "metadata": {},
   "outputs": [
    {
     "name": "stdout",
     "output_type": "stream",
     "text": [
      "[1 2 3]\n",
      "[4 5 6]\n",
      "[7 8 9]\n"
     ]
    }
   ],
   "source": [
    "#Rows\n",
    "print(matrix[0])\n",
    "print(matrix[1])\n",
    "print(matrix[2])"
   ]
  },
  {
   "cell_type": "code",
   "execution_count": 18,
   "metadata": {},
   "outputs": [
    {
     "name": "stdout",
     "output_type": "stream",
     "text": [
      "[1 4 7]\n",
      "[2 5 8]\n",
      "[3 6 9]\n"
     ]
    }
   ],
   "source": [
    "#Columns   Row,colums - \":\" gets all indices\n",
    "print(matrix[:,0])\n",
    "print(matrix[:,1])\n",
    "print(matrix[:,2])\n"
   ]
  },
  {
   "cell_type": "code",
   "execution_count": 19,
   "metadata": {},
   "outputs": [
    {
     "name": "stdout",
     "output_type": "stream",
     "text": [
      "[[1 4 7]\n",
      " [2 5 8]\n",
      " [3 6 9]]\n"
     ]
    }
   ],
   "source": [
    "#Transpose\n",
    "print(matrix.T)"
   ]
  },
  {
   "cell_type": "markdown",
   "metadata": {},
   "source": [
    "# Masking\n",
    "\n",
    "Masking is the process of filtering our data to a subsection we want"
   ]
  },
  {
   "cell_type": "code",
   "execution_count": 20,
   "metadata": {},
   "outputs": [
    {
     "name": "stdout",
     "output_type": "stream",
     "text": [
      "[False False False False  True  True  True]\n"
     ]
    }
   ],
   "source": [
    "array = np.array([-3,-2,-1,0,1,2,3])\n",
    "\n",
    "mask = array > 0\n",
    "\n",
    "print(mask)\n"
   ]
  },
  {
   "cell_type": "code",
   "execution_count": 21,
   "metadata": {},
   "outputs": [
    {
     "data": {
      "text/plain": [
       "array([1, 2, 3])"
      ]
     },
     "execution_count": 21,
     "metadata": {},
     "output_type": "execute_result"
    }
   ],
   "source": [
    "array[mask]"
   ]
  },
  {
   "cell_type": "code",
   "execution_count": 22,
   "metadata": {},
   "outputs": [
    {
     "data": {
      "text/plain": [
       "array([False, False,  True, False,  True, False])"
      ]
     },
     "execution_count": 22,
     "metadata": {},
     "output_type": "execute_result"
    }
   ],
   "source": [
    "#Do this with nan values\n",
    "\n",
    "array2 = np.array([1,2,np.nan,3,np.nan,5])\n",
    "\n",
    "mask = np.isnan(array2)\n",
    "\n",
    "mask\n"
   ]
  },
  {
   "cell_type": "code",
   "execution_count": 23,
   "metadata": {},
   "outputs": [
    {
     "data": {
      "text/plain": [
       "array([1., 2., 3., 5.])"
      ]
     },
     "execution_count": 23,
     "metadata": {},
     "output_type": "execute_result"
    }
   ],
   "source": [
    "array2[~mask]"
   ]
  },
  {
   "cell_type": "markdown",
   "metadata": {},
   "source": [
    "# Loading Data \n",
    "\n",
    "Numpy has many useful functions that can be used to read and write files. We will be looking at numpy load text as an example.\n",
    "\n",
    "Documentation: https://numpy.org/doc/stable/reference/generated/numpy.loadtxt.html\n",
    "\n",
    "We will be looking at a data set of 80 cereals: https://www.kaggle.com/datasets/crawford/80-cereals"
   ]
  },
  {
   "cell_type": "code",
   "execution_count": 24,
   "metadata": {},
   "outputs": [
    {
     "data": {
      "text/plain": [
       "array([['name', 'mfr', 'type', ..., 'weight', 'cups', 'rating'],\n",
       "       ['100% Bran', 'N', 'C', ..., '1', '0.33', '68.402973'],\n",
       "       ['100% Natural Bran', 'Q', 'C', ..., '1', '1', '33.983679'],\n",
       "       ...,\n",
       "       ['Wheat Chex', 'R', 'C', ..., '1', '0.67', '49.787445'],\n",
       "       ['Wheaties', 'G', 'C', ..., '1', '1', '51.592193'],\n",
       "       ['Wheaties Honey Gold', 'G', 'C', ..., '1', '0.75', '36.187559']],\n",
       "      dtype='<U38')"
      ]
     },
     "execution_count": 24,
     "metadata": {},
     "output_type": "execute_result"
    }
   ],
   "source": [
    "cereal = np.loadtxt(\"cereal.csv\", dtype = str, delimiter =\",\")\n",
    "cereal"
   ]
  },
  {
   "cell_type": "markdown",
   "metadata": {},
   "source": [
    "# Data Exploration\n",
    "\n",
    "With you knowledge of numpy, explore the data set we just loaded in.\n",
    "\n",
    "Here are some questions to guide you: <br>\n",
    "What manufacturer makes the most types of cereal? <br>\n",
    "Which cereal has the highest amount of sugar? <br>\n",
    "How much variation is there in the amount of sugar?<br>\n",
    "\n",
    "Hints:<br>\n",
    "The first row of the array contains the columns<br>\n",
    "The data type of every index was converted to a string and will have to by converted to a type that can be used in math operations - use np.array(..., dtype = float)<br>\n",
    "Full list numpy functions: https://numpy.org/doc/stable/reference/routines.math.html"
   ]
  },
  {
   "cell_type": "code",
   "execution_count": null,
   "metadata": {},
   "outputs": [],
   "source": []
  }
 ],
 "metadata": {
  "kernelspec": {
   "display_name": "Python 3 (ipykernel)",
   "language": "python",
   "name": "python3"
  },
  "language_info": {
   "codemirror_mode": {
    "name": "ipython",
    "version": 3
   },
   "file_extension": ".py",
   "mimetype": "text/x-python",
   "name": "python",
   "nbconvert_exporter": "python",
   "pygments_lexer": "ipython3",
   "version": "3.9.7"
  }
 },
 "nbformat": 4,
 "nbformat_minor": 2
}
